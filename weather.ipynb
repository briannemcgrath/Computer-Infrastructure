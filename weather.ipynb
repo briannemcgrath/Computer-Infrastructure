{
 "cells": [
  {
   "cell_type": "markdown",
   "metadata": {},
   "source": [
    "# **Weather Analysis**\n",
    "___"
   ]
  },
  {
   "cell_type": "markdown",
   "metadata": {},
   "source": [
    "___"
   ]
  },
  {
   "cell_type": "markdown",
   "metadata": {},
   "source": [
    "## **Task Summary:** \n",
    "#### **Common Commands Used:**\n",
    "- `cd` to change directories.\n",
    "- `ls` to check files in a directory.\n",
    "- ``git add .`` to stage all changes we made throughout each task.\n",
    "- ``git commit - m \"XXX\"`` to create a commit with a message.\n",
    "- `git push` to push the commit to the main branch on GitHub."
   ]
  },
  {
   "cell_type": "markdown",
   "metadata": {},
   "source": [
    "___"
   ]
  },
  {
   "cell_type": "markdown",
   "metadata": {},
   "source": [
    "### **Task 1: Create Directory Structure**\n",
    "\n",
    "- `mkdir data` \n",
    "- `cd data` \n",
    "- `mkdir timetamps` \n",
    "- `mkdir weather`\n",
    "\n",
    "Using the `mkdir` command created the `data` directory and it's subdirectories `timestamps` and `weather` at the root of the repository. \n"
   ]
  },
  {
   "cell_type": "markdown",
   "metadata": {},
   "source": [
    "### **Task 2: Timestamps**\n",
    "\n",
    "- `cd data/timestamps`\n",
    "- `date >> now.txt` \n",
    "\n",
    "Using `cd data/timestamps` navigated to the `timestamps` directory. `date >> now.txt` appended the cuurent date and time to `now.txt`. Repeated the step 10 time.\n",
    "\n",
    "- ``more now.txt``\n",
    "\n",
    "`more now.txt` verified the content. "
   ]
  },
  {
   "cell_type": "markdown",
   "metadata": {},
   "source": [
    "### **Task 3: Formatting Techniques**\n",
    "\n",
    "\n",
    "- ``date +\"%Y%m%d_%H%M%S\" >> formatted.txt``\n",
    "\n",
    "`date \"+%Y%m%d_%H%M%S\"` outputted the date in the format ``YYYYmmdd_HHMMSS``.\n",
    "The ``>>`` operator appended this output to ``formatted.txt``."
   ]
  },
  {
   "cell_type": "markdown",
   "metadata": {},
   "source": [
    "### **Task 4: Create Timestamped Files**\n",
    "\n",
    "- ``touch `date +\"%Y%m%d_%H%M%S\"`.txt``\n",
    "\n",
    "`touch` created an empty file name with the current timestamp by embedding the `date` command within backticks. "
   ]
  },
  {
   "cell_type": "markdown",
   "metadata": {},
   "source": [
    "### **Task 5: Download Today's Weather Data**\n",
    "\n",
    "- ``cd ../weather``\n",
    "- ``wget -O weather.json https://prodapi.metweb.ie/observations/athenry/today``\n",
    "\n",
    "`weget -O weather.json` downloaded the latest weather data from Met Éireann and saved it as `weather.json`\n"
   ]
  },
  {
   "cell_type": "markdown",
   "metadata": {},
   "source": [
    "### **Task 6: Timestamp the Data**\n",
    "\n",
    "- ``wget -O \"`date +%Y%m%d_%H%M%S`.json\" https://prodapi.metweb.ie/observations/athenry/today``\n",
    "\n",
    "This command saved the downloaded weather data with a timetamped file in the `data/weather` directory in the format `YYYYmmdd_HHMMSS.json`."
   ]
  },
  {
   "cell_type": "markdown",
   "metadata": {},
   "source": [
    "### **Task 7: Write the Script**\n",
    "\n",
    "- ``#!/bin/bash``\n",
    "- ``cd data/weather``\n",
    "- ``wget -O \"`date +%Y%m%d_%H%M%S`.json\" https://prodapi.metweb.ie/observations/athenry/today``\n",
    "\n",
    "This script automated the download process and saved weather data with a timestamped filename.\n",
    "\n",
    "- ``./weather.sh``\n",
    "\n",
    "Executed the script, saving the weather data as expected. "
   ]
  },
  {
   "cell_type": "markdown",
   "metadata": {},
   "source": [
    "___"
   ]
  },
  {
   "cell_type": "markdown",
   "metadata": {},
   "source": []
  }
 ],
 "metadata": {
  "kernelspec": {
   "display_name": "Python 3",
   "language": "python",
   "name": "python3"
  },
  "language_info": {
   "codemirror_mode": {
    "name": "ipython",
    "version": 3
   },
   "file_extension": ".py",
   "mimetype": "text/x-python",
   "name": "python",
   "nbconvert_exporter": "python",
   "pygments_lexer": "ipython3",
   "version": "3.11.5"
  }
 },
 "nbformat": 4,
 "nbformat_minor": 2
}
